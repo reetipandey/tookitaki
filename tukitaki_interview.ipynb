{
 "cells": [
  {
   "cell_type": "code",
   "execution_count": 1,
   "metadata": {},
   "outputs": [],
   "source": [
    "import pandas as pd\n",
    "import os\n",
    "import numpy as np"
   ]
  },
  {
   "cell_type": "code",
   "execution_count": 8,
   "metadata": {},
   "outputs": [],
   "source": [
    "import networkx as nx\n",
    "import matplotlib.pyplot as plt"
   ]
  },
  {
   "cell_type": "markdown",
   "metadata": {},
   "source": [
    "# Question 1a"
   ]
  },
  {
   "cell_type": "markdown",
   "metadata": {},
   "source": [
    "if we have only two rolls of dice  then the best strategy would be to take the first roll if its outcome is more than its expected value (ie 3.5((1+2+3+4+5+6)/6) and to roll again if it is less. Hence the expected payoff of the dice rolling twice is:\n",
    "1/6(6+5+4)+1/2*3.5=  4.25.\n",
    "If we have three dice rolls the optimal strategy will be to take the first roll if it is 5(greater than 4.25) or greater otherwise continue and the expected payoff will be:\n",
    "1/6(6+5)+2/3*4.25=14/3= 4.66\n",
    "\n",
    "So the expected winning after 3 rolls of dice id 4.6666.."
   ]
  },
  {
   "cell_type": "markdown",
   "metadata": {},
   "source": [
    "# Question 1b"
   ]
  },
  {
   "cell_type": "code",
   "execution_count": 154,
   "metadata": {},
   "outputs": [],
   "source": [
    "#dynamic programming \n",
    "#n:no of faces of dice , m :number of trials)\n",
    "def expected_winnings(n,m):\n",
    "    dp=np.zeros((m,n))   #initialising the 2d array\n",
    "    #dp(k,i) :maximum expected payoff if still k rolls are left and outcome of last roll was i\n",
    "    for i in range(1,n):\n",
    "        dp[0][i]=i \n",
    "    for i in range(n):\n",
    "        for k in range(1,m-1): \n",
    "                s=0\n",
    "                for j in range(1,n):\n",
    "                    s=s+dp[k-1][j]\n",
    "                df[k][i]=max(i,(1/n)*s)\n",
    "\n",
    "    return(dp[m][0])\n"
   ]
  },
  {
   "cell_type": "markdown",
   "metadata": {},
   "source": [
    "expected_winnings(6,3)"
   ]
  },
  {
   "cell_type": "code",
   "execution_count": 149,
   "metadata": {},
   "outputs": [],
   "source": [
    "n=6\n",
    "m=3\n",
    "dp=np.zeros((n,m))\n",
    "dp\n",
    "for i in range(m):\n",
    "    dp[0][i]=i"
   ]
  },
  {
   "cell_type": "code",
   "execution_count": 147,
   "metadata": {},
   "outputs": [],
   "source": [
    "dp[0][1]=1"
   ]
  },
  {
   "cell_type": "markdown",
   "metadata": {},
   "source": [
    "# Question 2"
   ]
  },
  {
   "cell_type": "code",
   "execution_count": 2,
   "metadata": {},
   "outputs": [],
   "source": [
    "df=pd.read_csv('/Users/rpande35/Desktop/tuki_data.csv')"
   ]
  },
  {
   "cell_type": "code",
   "execution_count": 4,
   "metadata": {},
   "outputs": [
    {
     "data": {
      "text/plain": [
       "(167, 3)"
      ]
     },
     "execution_count": 4,
     "metadata": {},
     "output_type": "execute_result"
    }
   ],
   "source": [
    "df.shape"
   ]
  },
  {
   "cell_type": "code",
   "execution_count": 6,
   "metadata": {},
   "outputs": [
    {
     "data": {
      "text/plain": [
       "Index(['FROM_NODE', 'TO_NODE', 'VALUE'], dtype='object')"
      ]
     },
     "execution_count": 6,
     "metadata": {},
     "output_type": "execute_result"
    }
   ],
   "source": [
    "df.columns"
   ]
  },
  {
   "cell_type": "code",
   "execution_count": 7,
   "metadata": {},
   "outputs": [
    {
     "data": {
      "text/plain": [
       "FROM_NODE    float64\n",
       "TO_NODE        int64\n",
       "VALUE        float64\n",
       "dtype: object"
      ]
     },
     "execution_count": 7,
     "metadata": {},
     "output_type": "execute_result"
    }
   ],
   "source": [
    "df.dtypes"
   ]
  },
  {
   "cell_type": "code",
   "execution_count": 29,
   "metadata": {},
   "outputs": [],
   "source": [
    "df=df.fillna(0)"
   ]
  },
  {
   "cell_type": "code",
   "execution_count": 30,
   "metadata": {},
   "outputs": [],
   "source": []
  },
  {
   "cell_type": "code",
   "execution_count": 11,
   "metadata": {},
   "outputs": [
    {
     "name": "stdout",
     "output_type": "stream",
     "text": [
      "(73, 3)\n",
      "(111, 3)\n"
     ]
    }
   ],
   "source": []
  },
  {
   "cell_type": "code",
   "execution_count": 31,
   "metadata": {},
   "outputs": [],
   "source": []
  },
  {
   "cell_type": "code",
   "execution_count": 37,
   "metadata": {},
   "outputs": [
    {
     "data": {
      "text/plain": [
       "'[3, 76, 2, 90, 5, 1, 6, 7, 8, 83, 10, 11, 12, 13, 14, 15, 16, 131, 18, 0, 21, 22, 23, 24, 28, 26, 29, 27, 30, 25, 20, 136, 177, 33, 34, 137, 37, 36, 38, 157, 40, 41, 42, 43, 44, 45, 46, 47, 48, 51, 53, 54, 49, 52, 160, 56, 55, 168, 58, 59, 60, 61, 63, 64, 62, 65, 170, 171, 172, 70, 173, 178, 100]'"
      ]
     },
     "execution_count": 37,
     "metadata": {},
     "output_type": "execute_result"
    }
   ],
   "source": [
    "l=str(l)\n",
    "l\n"
   ]
  },
  {
   "cell_type": "code",
   "execution_count": 40,
   "metadata": {},
   "outputs": [],
   "source": []
  },
  {
   "cell_type": "code",
   "execution_count": 41,
   "metadata": {},
   "outputs": [],
   "source": [
    "# Add a list of nodes:\n",
    "\n"
   ]
  },
  {
   "cell_type": "code",
   "execution_count": 59,
   "metadata": {},
   "outputs": [],
   "source": [
    "\n",
    "\n",
    "        "
   ]
  },
  {
   "cell_type": "code",
   "execution_count": 60,
   "metadata": {},
   "outputs": [],
   "source": []
  },
  {
   "cell_type": "code",
   "execution_count": 61,
   "metadata": {},
   "outputs": [],
   "source": []
  },
  {
   "cell_type": "code",
   "execution_count": 63,
   "metadata": {},
   "outputs": [],
   "source": []
  },
  {
   "cell_type": "markdown",
   "metadata": {},
   "source": [
    "# Question 2"
   ]
  },
  {
   "cell_type": "code",
   "execution_count": 122,
   "metadata": {
    "scrolled": true
   },
   "outputs": [],
   "source": [
    "df['FROM_NODE']=df['FROM_NODE'].astype(int)\n",
    "df['TO_NODE']=df['TO_NODE'].astype(int)\n",
    "l=list(df.drop_duplicates(subset=['FROM_NODE']).FROM_NODE)\n",
    "print(df.drop_duplicates(subset=['FROM_NODE']).shape)\n",
    "print(df.drop_duplicates(subset=['TO_NODE']).shape)\n",
    "\n",
    "# Create Directed Graph\n",
    "G=nx.DiGraph()\n",
    "G.add_nodes_from(l)\n",
    "df['edge']='('+df['FROM_NODE'].astype(str)+','+df['TO_NODE'].astype(str)+')'\n",
    "df['edge']=df['edge'].astype(str)\n",
    "l1=list(df.edge)\n",
    "# Add a list of edges:\n",
    "G.add_edges_from([(3,76),(76,88), (76,96), (2,76), (76,98), (76,100), (76,99), (90,76), (76,101), (76,102), (76,97), (76,103), (76,104), (76,105), (5,76), (1,76), (76,79), (76,81), (76,78), (76,80), (76,84), (76,106), (76,107), (76,108), (76,110), (76,111), (76,112), (76,113), (76,83), (76,92), (76,114), (6,76), (76,95), (76,115), (76,77), (7,76), (76,89), (76,90), (76,94), (76,75), (76,91), (76,86), (8,76), (83,76), (76,109), (76,117), (76,118), (76,116), (76,72), (76,73), (76,120), (10,76), (76,119), (76,85), (11,76), (76,122), (76,121), (12,76), (76,123), (76,82), (76,87), (76,125), (76,126), (76,124), (76,74), (76,93), (13,76), (14,127), (15,128), (15,129), (16,127), (131,130), (18,131), (0,132), (21,133), (22,133), (23,133), (24,133), (28,133), (26,133), (29,133), (27,133), (30,133), (25,133), (20,133), (136,134), (136,135), (177,136), (33,137), (34,137), (137,138), (137,139), (37,140), (36,140), (38,143), (38,142), (38,141), (157,148), (157,150), (157,151), (157,152), (157,153), (157,149), (157,154), (157,156), (40,157), (41,157), (42,157), (157,155), (157,158), (157,144), (157,145), (157,146), (157,147), (43,157), (44,157), (45,157), (46,157), (47,157), (48,157), (157,159), (51,160), (53,160), (54,160), (49,160), (52,160), (160,161), (160,162), (177,160), (160,164), (160,165), (160,163), (160,166), (56,160), (55,160), (168,167), (58,168), (59,168), (60,168), (61,168), (63,169), (64,169), (62,169), (65,170), (170,171), (65,171), (171,174), (171,175), (171,176), (171,177), (171,172), (170,172), (172,173), (70,173), (170,173), (173,179), (171,178), (178,172), (76,10), (10,90), (90,100), (100,76), (178,90), (90,62), (62,10), (10,70), (70,171)])\n",
    "#Return a list of cycles described as a list o nodes\n",
    "l2=list(nx.simple_cycles(G))\n",
    "s2=[]\n",
    "cyc_sum=[]\n",
    "for i in range(len(l2)):\n",
    "    s1=0\n",
    "    for j in range(len(l2[i])-1):\n",
    "            df1=df.loc[(df.FROM_NODE==l2[i][j])&(df.TO_NODE==l2[i][j+1])]\n",
    "            s=df1.VALUE.astype(int)\n",
    "            s1=int(s1)+int(s.values)\n",
    "            #print('sum for cycle is',s1,s.values)\n",
    "    s2.append([l2[i],i,s1])\n",
    "    cyc_sum.append(s1)"
   ]
  },
  {
   "cell_type": "code",
   "execution_count": 115,
   "metadata": {},
   "outputs": [
    {
     "data": {
      "text/plain": [
       "[[[100, 76, 10, 70, 171, 178, 90], 0, 558000235],\n",
       " [[100, 76, 10, 90], 1, 260001235],\n",
       " [[100, 76, 90], 2, 16645],\n",
       " [[100, 76], 3, 235],\n",
       " [[70, 171, 178, 90, 62, 10], 4, 341019000],\n",
       " [[70, 171, 178, 90, 76, 10], 5, 533048720],\n",
       " [[10, 90, 62], 6, 68001000],\n",
       " [[10, 90, 76], 7, 49720],\n",
       " [[10, 76], 8, 9819],\n",
       " [[10, 76, 90, 62], 9, 68026229],\n",
       " [[90, 76], 10, 48720],\n",
       " [[83, 76], 11, 124049]]"
      ]
     },
     "execution_count": 115,
     "metadata": {},
     "output_type": "execute_result"
    }
   ],
   "source": [
    "s2 #cycles with corresponding weight values"
   ]
  },
  {
   "cell_type": "code",
   "execution_count": 126,
   "metadata": {},
   "outputs": [
    {
     "name": "stdout",
     "output_type": "stream",
     "text": [
      "number of cycles in data are 12\n"
     ]
    }
   ],
   "source": [
    "print('number of cycles in data are',len(s2))"
   ]
  },
  {
   "cell_type": "code",
   "execution_count": 127,
   "metadata": {},
   "outputs": [
    {
     "name": "stdout",
     "output_type": "stream",
     "text": [
      "maximum cycle sum is 558000235\n"
     ]
    }
   ],
   "source": [
    "print('maximum cycle sum is',max(cyc_sum))"
   ]
  },
  {
   "cell_type": "code",
   "execution_count": 124,
   "metadata": {},
   "outputs": [
    {
     "name": "stdout",
     "output_type": "stream",
     "text": [
      "cycle with maximum sum is [100, 76, 10, 70, 171, 178, 90] sum is 558000235\n"
     ]
    }
   ],
   "source": [
    "print('cycle with maximum sum is [100, 76, 10, 70, 171, 178, 90] sum is 558000235' )"
   ]
  },
  {
   "cell_type": "code",
   "execution_count": null,
   "metadata": {},
   "outputs": [],
   "source": []
  }
 ],
 "metadata": {
  "kernelspec": {
   "display_name": "Python 3",
   "language": "python",
   "name": "python3"
  },
  "language_info": {
   "codemirror_mode": {
    "name": "ipython",
    "version": 3
   },
   "file_extension": ".py",
   "mimetype": "text/x-python",
   "name": "python",
   "nbconvert_exporter": "python",
   "pygments_lexer": "ipython3",
   "version": "3.7.0"
  }
 },
 "nbformat": 4,
 "nbformat_minor": 2
}
